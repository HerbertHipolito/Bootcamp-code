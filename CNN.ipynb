{
  "nbformat": 4,
  "nbformat_minor": 0,
  "metadata": {
    "colab": {
      "provenance": []
    },
    "kernelspec": {
      "name": "python3",
      "display_name": "Python 3"
    },
    "language_info": {
      "name": "python"
    }
  },
  "cells": [
    {
      "cell_type": "markdown",
      "source": [
        "#dependencies"
      ],
      "metadata": {
        "id": "OXRk6sNonJr3"
      }
    },
    {
      "cell_type": "code",
      "execution_count": 84,
      "metadata": {
        "id": "U2kBYGPRcNFp"
      },
      "outputs": [],
      "source": [
        "import warnings\n",
        "warnings.filterwarnings('always')\n",
        "warnings.filterwarnings('ignore')\n",
        "\n",
        "import numpy as np\n",
        "import pandas as pd\n",
        "import matplotlib.pyplot as plt\n",
        "%matplotlib inline  \n",
        "import seaborn as sns\n",
        "\n",
        "\n",
        "from sklearn.model_selection import train_test_split\n",
        "import keras\n",
        "from tensorflow.keras import applications\n",
        "from keras.preprocessing.image import ImageDataGenerator\n",
        "from keras.models import Model\n",
        "from keras.optimizers import Nadam, Adam\n",
        "from keras.utils import to_categorical\n",
        "from keras.layers import Dropout, Flatten, Input, Dense\n",
        "from keras.layers import Conv2D, MaxPooling2D, BatchNormalization\n",
        "\n",
        "import random\n",
        "import tensorflow as tf\n",
        "import cv2\n",
        "import os \n",
        "import glob\n",
        "from keras import applications"
      ]
    },
    {
      "cell_type": "markdown",
      "source": [
        "#Functions"
      ],
      "metadata": {
        "id": "UI_7xqGXnTZ1"
      }
    },
    {
      "cell_type": "code",
      "source": [
        "def display_img(image,title='Image',x_label=None,y_label=None,cmap_type='gray',show_axis=False,colorBar=False,F_size=(8,6)):\n",
        "  plt.figure(figsize=F_size)\n",
        "  plt.imshow(image,cmap=cmap_type)\n",
        "  plt.title(title)\n",
        "  plt.xlabel(x_label)\n",
        "  plt.ylabel(y_label)\n",
        "  if colorBar: plt.colorbar()\n",
        "  if not show_axis: plt.axis('off')\n",
        "  plt.show()\n",
        "\n",
        "def count_0_1(array):\n",
        "\n",
        "  count1,count0 = 0,0\n",
        "\n",
        "  for element in array:\n",
        "\n",
        "    if element == 1:\n",
        "      count1+=1\n",
        "    else:\n",
        "      count0+=1\n",
        "  \n",
        "  return count0,count1\n"
      ],
      "metadata": {
        "id": "TcCLEeaUn2c7"
      },
      "execution_count": 85,
      "outputs": []
    },
    {
      "cell_type": "markdown",
      "source": [
        "#Loading the dataset"
      ],
      "metadata": {
        "id": "Bqxqv-n0nXDN"
      }
    },
    {
      "cell_type": "code",
      "source": [
        "select_images_randomly = False\n",
        "\n",
        "#Get images from google drive\n",
        "directory_path_malignos = '/content/drive/MyDrive/cropped_and_treated_nods_maligno/'\n",
        "directory_path_benignos = '/content/drive/MyDrive/cropped_and_treated_nods_benigno/'\n",
        "\n",
        "directory_files = os.listdir(directory_path_malignos)\n",
        "array_of_images_malignos = [plt.imread( os.path.join(directory_path_malignos,file) ) for file in directory_files]\n",
        "\n",
        "directory_files = os.listdir(directory_path_benignos)\n",
        "array_of_images_benignos = [plt.imread( os.path.join(directory_path_benignos,file) ) for file in directory_files]\n",
        "\n",
        "print(f'Number of cropped maligno images: {len(array_of_images_malignos)}')\n",
        "print(f'Number of cropped benigno images: {len(array_of_images_benignos)}')\n"
      ],
      "metadata": {
        "colab": {
          "base_uri": "https://localhost:8080/"
        },
        "id": "ZCh55zZ0nX13",
        "outputId": "2bd03e08-563b-498d-86fc-e4a5efa3313e"
      },
      "execution_count": 86,
      "outputs": [
        {
          "output_type": "stream",
          "name": "stdout",
          "text": [
            "Number of cropped maligno images: 262\n",
            "Number of cropped benigno images: 275\n"
          ]
        }
      ]
    },
    {
      "cell_type": "markdown",
      "source": [
        "#Spliting the dataset into training and test set."
      ],
      "metadata": {
        "id": "4PsXLKwVnd1F"
      }
    },
    {
      "cell_type": "code",
      "source": [
        "x = np.array([*array_of_images_malignos,*array_of_images_benignos])\n",
        "y = np.array([*[1 for _ in array_of_images_malignos],*[0 for _ in array_of_images_benignos]])\n",
        "\n",
        "x_train, x_test, y_train, y_test = train_test_split(x, y, test_size=0.2, random_state=42,shuffle=True)\n",
        "\n",
        "x_train = tf.expand_dims(x_train, axis=-1) #Do I need to do that transformation?\n",
        "x_test = tf.expand_dims(x_test, axis=-1)\n",
        "y_train = tf.expand_dims(y_train, axis=-1)\n",
        "y_test = tf.expand_dims(y_test, axis=-1)\n",
        "\n",
        "print(f'Size of training set {len(y_train)}')\n",
        "count0,count1=count_0_1(y_train)\n",
        "print(f'class 0 size: {count0} class 1 size: {count1}. ratio: {count1/(count0+count1)}')\n",
        "print(f'Size of test set {len(y_test)}')\n",
        "count0,count1=count_0_1(y_test)\n",
        "print(f'class 0 size: {count0} class 1 size: {count1}. ratio: {count1/(count0+count1)}')"
      ],
      "metadata": {
        "colab": {
          "base_uri": "https://localhost:8080/"
        },
        "id": "J9GJGtHK4ggJ",
        "outputId": "9a809fe2-4add-4e48-b118-b93c1e960556"
      },
      "execution_count": 87,
      "outputs": [
        {
          "output_type": "stream",
          "name": "stdout",
          "text": [
            "Size of training set 429\n",
            "class 0 size: 223 class 1 size: 206. ratio: 0.4801864801864802\n",
            "Size of test set 108\n",
            "class 0 size: 52 class 1 size: 56. ratio: 0.5185185185185185\n"
          ]
        }
      ]
    },
    {
      "cell_type": "markdown",
      "source": [
        "#Building the model and perfoming the simulations"
      ],
      "metadata": {
        "id": "WPSdbqCXnuWs"
      }
    },
    {
      "cell_type": "markdown",
      "source": [
        "##Model 1"
      ],
      "metadata": {
        "id": "kdVleyNCoHVl"
      }
    },
    {
      "cell_type": "code",
      "source": [
        "model = keras.Sequential()\n",
        "\n",
        "model.add(keras.layers.Conv2D( filters=64,kernel_size=5,padding = 'same',activation='relu',input_shape = (44,44,1) ))\n",
        "model.add(keras.layers.MaxPooling2D(pool_size=[2,2],strides=2))\n",
        "\n",
        "#model.add(keras.layers.Conv2D( filters=64,kernel_size=5,padding = 'same',activation='relu',input_shape = (44,44,1) ))\n",
        "#model.add(keras.layers.MaxPooling2D(pool_size=[2,2],strides=2))\n",
        "\n",
        "model.add(keras.layers.Conv2D( filters=32,kernel_size=3,padding = 'same',activation='relu',input_shape = (44,44,1) ))\n",
        "model.add(keras.layers.MaxPooling2D(pool_size=[2,2],strides=2))\n",
        "\n",
        "model.add(keras.layers.Flatten())\n",
        "\n",
        "model.add(Dense(15, activation= 'relu'))\n",
        "model.add(Dense(10, activation= 'relu'))\n",
        "model.add(Dense(5, activation= 'softmax'))\n",
        "\n",
        "model.compile(loss= \"sparse_categorical_crossentropy\",metrics=['accuracy'])\n",
        "model.summary()\n",
        "history = model.fit(x_train,y_train , epochs = 10, initial_epoch = 0,validation_split=0.2)"
      ],
      "metadata": {
        "colab": {
          "base_uri": "https://localhost:8080/"
        },
        "id": "vU0uakZ99E2e",
        "outputId": "2caa0ce0-a575-457f-a3cb-3a224f72d19e"
      },
      "execution_count": 88,
      "outputs": [
        {
          "output_type": "stream",
          "name": "stdout",
          "text": [
            "Model: \"sequential_20\"\n",
            "_________________________________________________________________\n",
            " Layer (type)                Output Shape              Param #   \n",
            "=================================================================\n",
            " conv2d_64 (Conv2D)          (None, 44, 44, 64)        1664      \n",
            "                                                                 \n",
            " max_pooling2d_62 (MaxPoolin  (None, 22, 22, 64)       0         \n",
            " g2D)                                                            \n",
            "                                                                 \n",
            " conv2d_65 (Conv2D)          (None, 22, 22, 32)        18464     \n",
            "                                                                 \n",
            " max_pooling2d_63 (MaxPoolin  (None, 11, 11, 32)       0         \n",
            " g2D)                                                            \n",
            "                                                                 \n",
            " flatten_25 (Flatten)        (None, 3872)              0         \n",
            "                                                                 \n",
            " dense_65 (Dense)            (None, 15)                58095     \n",
            "                                                                 \n",
            " dense_66 (Dense)            (None, 10)                160       \n",
            "                                                                 \n",
            " dense_67 (Dense)            (None, 5)                 55        \n",
            "                                                                 \n",
            "=================================================================\n",
            "Total params: 78,438\n",
            "Trainable params: 78,438\n",
            "Non-trainable params: 0\n",
            "_________________________________________________________________\n",
            "Epoch 1/10\n",
            "11/11 [==============================] - 3s 182ms/step - loss: 4.1664 - accuracy: 0.6560 - val_loss: 0.4591 - val_accuracy: 0.8023\n",
            "Epoch 2/10\n",
            "11/11 [==============================] - 2s 158ms/step - loss: 0.3858 - accuracy: 0.8309 - val_loss: 0.3546 - val_accuracy: 0.8605\n",
            "Epoch 3/10\n",
            "11/11 [==============================] - 2s 226ms/step - loss: 0.2730 - accuracy: 0.8892 - val_loss: 0.3321 - val_accuracy: 0.8953\n",
            "Epoch 4/10\n",
            "11/11 [==============================] - 2s 157ms/step - loss: 0.2640 - accuracy: 0.9096 - val_loss: 0.3543 - val_accuracy: 0.8372\n",
            "Epoch 5/10\n",
            "11/11 [==============================] - 2s 156ms/step - loss: 0.2143 - accuracy: 0.9184 - val_loss: 0.4307 - val_accuracy: 0.8488\n",
            "Epoch 6/10\n",
            "11/11 [==============================] - 2s 153ms/step - loss: 0.1933 - accuracy: 0.9300 - val_loss: 0.4254 - val_accuracy: 0.8721\n",
            "Epoch 7/10\n",
            "11/11 [==============================] - 2s 153ms/step - loss: 0.2233 - accuracy: 0.9155 - val_loss: 0.3017 - val_accuracy: 0.8721\n",
            "Epoch 8/10\n",
            "11/11 [==============================] - 2s 156ms/step - loss: 0.2071 - accuracy: 0.9271 - val_loss: 0.4873 - val_accuracy: 0.8140\n",
            "Epoch 9/10\n",
            "11/11 [==============================] - 2s 155ms/step - loss: 0.0944 - accuracy: 0.9679 - val_loss: 0.4735 - val_accuracy: 0.8605\n",
            "Epoch 10/10\n",
            "11/11 [==============================] - 2s 158ms/step - loss: 0.2286 - accuracy: 0.9359 - val_loss: 0.5664 - val_accuracy: 0.8488\n"
          ]
        }
      ]
    },
    {
      "cell_type": "code",
      "source": [
        "plt.plot(history.history['loss'])\n",
        "plt.plot(history.history['val_loss'])\n",
        "plt.title('Model Loss')\n",
        "plt.ylabel('Loss')\n",
        "plt.xlabel('Epochs')\n",
        "plt.legend(['train', 'test'])\n",
        "plt.show()\n",
        "\n",
        "evaluation = model.evaluate(x_test,y_test)"
      ],
      "metadata": {
        "colab": {
          "base_uri": "https://localhost:8080/",
          "height": 313
        },
        "id": "FIbV8JYlNGag",
        "outputId": "77bee937-52d9-4262-edff-30b54f92cc9c"
      },
      "execution_count": 89,
      "outputs": [
        {
          "output_type": "display_data",
          "data": {
            "text/plain": [
              "<Figure size 432x288 with 1 Axes>"
            ],
            "image/png": "[encoded data removed]"
          },
          "metadata": {
            "needs_background": "light"
          }
        },
        {
          "output_type": "stream",
          "name": "stdout",
          "text": [
            "4/4 [==============================] - 0s 31ms/step - loss: 0.7145 - accuracy: 0.7870\n"
          ]
        }
      ]
    },
    {
      "cell_type": "code",
      "source": [
        "prediction = model.predict(x_test)\n",
        "#print(prediction)\n",
        "all_predictions  =[np.argmax(result) for result in prediction] \n",
        "print(all_predictions)"
      ],
      "metadata": {
        "colab": {
          "base_uri": "https://localhost:8080/"
        },
        "id": "tVAe_s4uJYif",
        "outputId": "ad02e5d1-ff18-4465-c158-25db61b0e0c6"
      },
      "execution_count": 90,
      "outputs": [
        {
          "output_type": "stream",
          "name": "stdout",
          "text": [
            "4/4 [==============================] - 0s 35ms/step\n",
            "[0, 0, 0, 1, 0, 1, 0, 0, 0, 0, 1, 1, 0, 1, 0, 0, 0, 1, 1, 1, 1, 0, 0, 0, 1, 1, 0, 0, 1, 0, 1, 0, 0, 0, 0, 0, 0, 0, 0, 1, 1, 1, 0, 1, 0, 1, 1, 1, 0, 0, 0, 0, 0, 1, 0, 1, 1, 0, 1, 0, 1, 0, 1, 0, 0, 0, 0, 0, 0, 0, 0, 0, 0, 0, 1, 0, 1, 0, 0, 1, 0, 0, 0, 1, 1, 0, 0, 1, 0, 0, 0, 1, 1, 0, 1, 0, 0, 1, 0, 1, 0, 0, 1, 1, 0, 0, 0, 0]\n"
          ]
        }
      ]
    },
    {
      "cell_type": "markdown",
      "source": [
        "##Model 2"
      ],
      "metadata": {
        "id": "UPgFMp7woL7D"
      }
    },
    {
      "cell_type": "code",
      "source": [
        "inp = Input(x_train.shape[1:])\n",
        "print(inp)\n",
        "conv1 = Conv2D(32, (5,5), padding='same', activation= 'relu')(inp)\n",
        "conv1 = MaxPooling2D(pool_size=(2,2))(conv1)\n",
        "conv1 = BatchNormalization()(conv1)\n",
        "\n",
        "conv2 = Conv2D(32, (4,4), padding='same', activation= 'relu')(conv1)\n",
        "conv2 = MaxPooling2D(pool_size=(2,2))(conv2)\n",
        "conv2 = BatchNormalization()(conv2)\n",
        "\n",
        "conv3 = Conv2D(32, (3,3), padding='same', activation= 'relu')(conv2)\n",
        "conv3 = MaxPooling2D(pool_size=(2,2))(conv3)\n",
        "conv3 = BatchNormalization()(conv3)\n",
        "\n",
        "conv4 = Conv2D(256, (3,3), padding='same', activation= 'relu')(conv3)\n",
        "conv4 = MaxPooling2D(pool_size=(2,2))(conv4)\n",
        "conv4 = BatchNormalization()(conv4)\n",
        "flat = Flatten()(conv4)\n",
        "\n",
        "#flat = Flatten()(conv3)\n",
        "\n",
        "dense1 = Dense(512, activation= 'relu')(flat)\n",
        "dense1 = Dropout(0.5)(dense1)\n",
        "\n",
        "dense2 = Dense(64, activation= 'relu')(dense1)\n",
        "dense2 = Dropout(0.1)(dense2)\n",
        "\n",
        "out = Dense(2, activation = 'softmax')(dense2)\n",
        "\n",
        "model = Model(inp, out)\n",
        "model.summary()\n",
        "model.compile(optimizer = Nadam(lr = 0.0001) , loss = 'sparse_categorical_crossentropy', metrics=['accuracy'])\n",
        "history = model.fit(x_train,y_train , batch_size = 1, epochs = 10, initial_epoch = 0,validation_split=0.2)\n"
      ],
      "metadata": {
        "colab": {
          "base_uri": "https://localhost:8080/"
        },
        "id": "cFiv7YHPpY7R",
        "outputId": "2caed059-07a8-4b0e-d8de-63239e3f39f7"
      },
      "execution_count": 91,
      "outputs": [
        {
          "output_type": "stream",
          "name": "stdout",
          "text": [
            "KerasTensor(type_spec=TensorSpec(shape=(None, 44, 44, 1), dtype=tf.float32, name='input_10'), name='input_10', description=\"created by layer 'input_10'\")\n",
            "Model: \"model_5\"\n",
            "_________________________________________________________________\n",
            " Layer (type)                Output Shape              Param #   \n",
            "=================================================================\n",
            " input_10 (InputLayer)       [(None, 44, 44, 1)]       0         \n",
            "                                                                 \n",
            " conv2d_66 (Conv2D)          (None, 44, 44, 32)        832       \n",
            "                                                                 \n",
            " max_pooling2d_64 (MaxPoolin  (None, 22, 22, 32)       0         \n",
            " g2D)                                                            \n",
            "                                                                 \n",
            " batch_normalization_19 (Bat  (None, 22, 22, 32)       128       \n",
            " chNormalization)                                                \n",
            "                                                                 \n",
            " conv2d_67 (Conv2D)          (None, 22, 22, 32)        16416     \n",
            "                                                                 \n",
            " max_pooling2d_65 (MaxPoolin  (None, 11, 11, 32)       0         \n",
            " g2D)                                                            \n",
            "                                                                 \n",
            " batch_normalization_20 (Bat  (None, 11, 11, 32)       128       \n",
            " chNormalization)                                                \n",
            "                                                                 \n",
            " conv2d_68 (Conv2D)          (None, 11, 11, 32)        9248      \n",
            "                                                                 \n",
            " max_pooling2d_66 (MaxPoolin  (None, 5, 5, 32)         0         \n",
            " g2D)                                                            \n",
            "                                                                 \n",
            " batch_normalization_21 (Bat  (None, 5, 5, 32)         128       \n",
            " chNormalization)                                                \n",
            "                                                                 \n",
            " conv2d_69 (Conv2D)          (None, 5, 5, 256)         73984     \n",
            "                                                                 \n",
            " max_pooling2d_67 (MaxPoolin  (None, 2, 2, 256)        0         \n",
            " g2D)                                                            \n",
            "                                                                 \n",
            " batch_normalization_22 (Bat  (None, 2, 2, 256)        1024      \n",
            " chNormalization)                                                \n",
            "                                                                 \n",
            " flatten_26 (Flatten)        (None, 1024)              0         \n",
            "                                                                 \n",
            " dense_68 (Dense)            (None, 512)               524800    \n",
            "                                                                 \n",
            " dropout_10 (Dropout)        (None, 512)               0         \n",
            "                                                                 \n",
            " dense_69 (Dense)            (None, 64)                32832     \n",
            "                                                                 \n",
            " dropout_11 (Dropout)        (None, 64)                0         \n",
            "                                                                 \n",
            " dense_70 (Dense)            (None, 2)                 130       \n",
            "                                                                 \n",
            "=================================================================\n",
            "Total params: 659,650\n",
            "Trainable params: 658,946\n",
            "Non-trainable params: 704\n",
            "_________________________________________________________________\n",
            "Epoch 1/10\n",
            "343/343 [==============================] - 11s 24ms/step - loss: 0.4467 - accuracy: 0.8047 - val_loss: 0.4024 - val_accuracy: 0.7791\n",
            "Epoch 2/10\n",
            "343/343 [==============================] - 7s 22ms/step - loss: 0.3034 - accuracy: 0.8805 - val_loss: 0.3736 - val_accuracy: 0.8140\n",
            "Epoch 3/10\n",
            "343/343 [==============================] - 8s 25ms/step - loss: 0.1984 - accuracy: 0.9155 - val_loss: 0.3847 - val_accuracy: 0.8256\n",
            "Epoch 4/10\n",
            "343/343 [==============================] - 9s 25ms/step - loss: 0.1469 - accuracy: 0.9388 - val_loss: 0.3290 - val_accuracy: 0.8256\n",
            "Epoch 5/10\n",
            "343/343 [==============================] - 9s 26ms/step - loss: 0.0925 - accuracy: 0.9679 - val_loss: 0.3515 - val_accuracy: 0.8721\n",
            "Epoch 6/10\n",
            "343/343 [==============================] - 8s 23ms/step - loss: 0.1145 - accuracy: 0.9475 - val_loss: 0.3682 - val_accuracy: 0.8372\n",
            "Epoch 7/10\n",
            "343/343 [==============================] - 8s 22ms/step - loss: 0.0928 - accuracy: 0.9679 - val_loss: 0.4292 - val_accuracy: 0.8372\n",
            "Epoch 8/10\n",
            "343/343 [==============================] - 8s 23ms/step - loss: 0.0579 - accuracy: 0.9738 - val_loss: 0.4448 - val_accuracy: 0.7907\n",
            "Epoch 9/10\n",
            "343/343 [==============================] - 9s 26ms/step - loss: 0.0643 - accuracy: 0.9708 - val_loss: 0.6056 - val_accuracy: 0.7442\n",
            "Epoch 10/10\n",
            "343/343 [==============================] - 8s 22ms/step - loss: 0.0701 - accuracy: 0.9738 - val_loss: 0.3755 - val_accuracy: 0.8721\n"
          ]
        }
      ]
    },
    {
      "cell_type": "code",
      "source": [
        "plt.plot(history.history['loss'])\n",
        "plt.plot(history.history['val_loss'])\n",
        "plt.title('Model Loss')\n",
        "plt.ylabel('Loss')\n",
        "plt.xlabel('Epochs')\n",
        "plt.legend(['train', 'test'])\n",
        "plt.show()\n",
        "\n",
        "evaluation = model.evaluate(x_test,y_test)"
      ],
      "metadata": {
        "colab": {
          "base_uri": "https://localhost:8080/",
          "height": 313
        },
        "id": "XiOpbA_5oSE7",
        "outputId": "6f6c66dd-f86a-4a77-99cb-a1791a2f9846"
      },
      "execution_count": 92,
      "outputs": [
        {
          "output_type": "display_data",
          "data": {
            "text/plain": [
              "<Figure size 432x288 with 1 Axes>"
            ],
            "image/png": "[encoded data removed]"
          },
          "metadata": {
            "needs_background": "light"
          }
        },
        {
          "output_type": "stream",
          "name": "stdout",
          "text": [
            "4/4 [==============================] - 0s 32ms/step - loss: 0.4734 - accuracy: 0.8796\n"
          ]
        }
      ]
    },
    {
      "cell_type": "code",
      "source": [
        "prediction = model.predict(x_test)\n",
        "#print(prediction)\n",
        "all_predictions  =[np.argmax(result) for result in prediction] \n",
        "print(all_predictions)"
      ],
      "metadata": {
        "colab": {
          "base_uri": "https://localhost:8080/"
        },
        "id": "3O7YilhbFNWH",
        "outputId": "9d84ba72-a2ad-46e1-b46e-0dfd771e5338"
      },
      "execution_count": 93,
      "outputs": [
        {
          "output_type": "stream",
          "name": "stdout",
          "text": [
            "4/4 [==============================] - 0s 31ms/step\n",
            "[0, 0, 0, 1, 0, 1, 0, 0, 0, 0, 1, 1, 0, 1, 1, 0, 0, 1, 1, 1, 1, 1, 1, 0, 1, 1, 0, 0, 1, 0, 1, 1, 0, 0, 0, 0, 0, 1, 1, 1, 1, 1, 0, 1, 0, 1, 1, 1, 0, 1, 1, 0, 0, 1, 1, 1, 0, 1, 1, 0, 1, 0, 1, 0, 1, 0, 0, 0, 0, 1, 0, 1, 0, 0, 1, 0, 1, 0, 0, 1, 0, 0, 1, 1, 1, 0, 0, 1, 0, 0, 0, 1, 1, 0, 1, 1, 0, 1, 0, 1, 0, 0, 1, 1, 0, 0, 0, 0]\n"
          ]
        }
      ]
    }
  ]
}